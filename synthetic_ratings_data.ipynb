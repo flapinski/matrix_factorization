{
  "nbformat": 4,
  "nbformat_minor": 0,
  "metadata": {
    "colab": {
      "provenance": []
    },
    "kernelspec": {
      "name": "python3",
      "display_name": "Python 3"
    },
    "language_info": {
      "name": "python"
    }
  },
  "cells": [
    {
      "cell_type": "markdown",
      "source": [
        "## Generate a ratings matrix of predetermined rank (with/wihout bias)"
      ],
      "metadata": {
        "id": "WjO2z96guPUF"
      }
    },
    {
      "cell_type": "code",
      "execution_count": null,
      "metadata": {
        "id": "LQTm891x7c-p"
      },
      "outputs": [],
      "source": [
        "from numpy import random as rd\n",
        "import numpy as np\n",
        "import pandas as pd\n",
        "import random\n",
        "import matplotlib.pyplot as plt\n",
        "plt.rcParams['mathtext.fontset'] = 'cm'\n",
        "plt.rcParams['font.family'] = 'STIXGeneral'"
      ]
    },
    {
      "cell_type": "code",
      "source": [
        "def create_latent_factors(d, l, latent_factor_interval):\n",
        "  # Creates a d*l matrix of latent factors, sampled uniformly from the interval 'latent_factor_interval'\n",
        "  M = np.random.uniform(latent_factor_interval[0], latent_factor_interval[1], [d, l])\n",
        "  return M"
      ],
      "metadata": {
        "id": "1bu3uoql8kII"
      },
      "execution_count": null,
      "outputs": []
    },
    {
      "cell_type": "code",
      "source": [
        "def create_noise(M, error_interval):\n",
        "  # Creates noise matrix to add to ratings matrix, noise is sampled uniformly from error_interval\n",
        "  d1, d2 = M.shape\n",
        "  E = np.random.uniform(error_interval[0], error_interval[1], [d1, d2])\n",
        "  return E"
      ],
      "metadata": {
        "id": "7SJDgY0-gGlE"
      },
      "execution_count": null,
      "outputs": []
    },
    {
      "cell_type": "code",
      "source": [
        "def create_bias(length, bias_interval):\n",
        "  # Creates a numpy array of size [length, 1] of numbers sampled uniformly from bias_interval\n",
        "  bias = np.random.uniform(bias_interval[0], bias_interval[1], [length, 1])\n",
        "  return bias"
      ],
      "metadata": {
        "id": "CR27pcB2jR-L"
      },
      "execution_count": null,
      "outputs": []
    },
    {
      "cell_type": "code",
      "source": [
        "def create_ratings_matrix(d1, d2, l, latent_factor_interval, error_interval, bias_interval, biased=False):\n",
        "  U = create_latent_factors(d1, l, latent_factor_interval)\n",
        "  V = create_latent_factors(d2, l, latent_factor_interval)\n",
        "  if biased:\n",
        "    U_bias = create_bias(d1, bias_interval)\n",
        "    V_bias = create_bias(d2, bias_interval)\n",
        "    U = np.c_[U, U_bias, np.ones(d1)]\n",
        "    V = np.c_[V, np.ones(d2), V_bias]\n",
        "  R = U.dot(V.T)\n",
        "  R += create_noise(R, error_interval)\n",
        "  return R"
      ],
      "metadata": {
        "id": "N6tcNbfE9HoX"
      },
      "execution_count": null,
      "outputs": []
    },
    {
      "cell_type": "code",
      "source": [
        "def create_df_from_matrix(M):\n",
        "  u, i = M.shape\n",
        "  user = np.indices([u,i])[0].flatten()\n",
        "  item = np.indices([u,i])[1].flatten()\n",
        "  rating = M.flatten()\n",
        "  df = pd.DataFrame({'user': user, 'item': item, 'rating': rating})\n",
        "  return df"
      ],
      "metadata": {
        "id": "TZ2INQggzFGb"
      },
      "execution_count": null,
      "outputs": []
    },
    {
      "cell_type": "markdown",
      "source": [
        "### Main function"
      ],
      "metadata": {
        "id": "wWC1ro6wEWBK"
      }
    },
    {
      "cell_type": "code",
      "source": [
        "def main():\n",
        "\n",
        "  l = 20\n",
        "  d1, d2 = 2000, 2000\n",
        "  latent_factor_interval = [-2, 2]\n",
        "  bias_interval = [-2, 2]\n",
        "  error_interval = [-0.5, 0.5]\n",
        "\n",
        "  rd.seed(0)\n",
        "\n",
        "  biased = False\n",
        "\n",
        "  R = create_ratings_matrix(d1, d2, l, latent_factor_interval, error_interval, bias_interval, biased)\n",
        "  df = create_df_from_matrix(R)\n",
        "\n",
        "  name = f\"df_size_{d1}_{d2}_l_{l}_bias.csv\" if biased else f\"df_size_{d1}_{d2}_l_{l}.csv\"\n",
        "  df.to_csv(name)\n",
        "  return df, R\n",
        "\n",
        "df, R = main()"
      ],
      "metadata": {
        "id": "DsBJuzsCB9bZ"
      },
      "execution_count": null,
      "outputs": []
    },
    {
      "cell_type": "markdown",
      "source": [
        "### Descriptive statistics"
      ],
      "metadata": {
        "id": "XWZKUdTFERED"
      }
    },
    {
      "cell_type": "code",
      "source": [
        "print('Min/max rating: ', R.min(), R.max())\n",
        "print('Global mean rating: ', np.mean(R))\n",
        "print('Mean rating magnitude: ', np.mean(abs(R)))\n",
        "print('Median rating magnitude: ', np.median(abs(R)))"
      ],
      "metadata": {
        "colab": {
          "base_uri": "https://localhost:8080/"
        },
        "id": "VO7Tnxsib7PP",
        "outputId": "0b5c1402-ff8a-4c95-bd7a-22d5ea0fd846"
      },
      "execution_count": null,
      "outputs": [
        {
          "output_type": "stream",
          "name": "stdout",
          "text": [
            "Min/max rating:  -29.97354536073192 31.107824912525597\n",
            "Global mean rating:  -0.0027187809120271405\n",
            "Mean rating magnitude:  4.773404615434601\n",
            "Median rating magnitude:  4.032845819518939\n"
          ]
        }
      ]
    },
    {
      "cell_type": "code",
      "source": [
        "plt.hist(R.flatten(), bins=25, color = \"skyblue\", ec=\"skyblue\")\n",
        "plt.title('Synthetic data set: Ratings distribution', fontsize=14)\n",
        "fig = plt.gcf()\n",
        "fig.set_size_inches(5, 3.8)\n",
        "plt.savefig('synthetic_hist.eps', format='eps', dpi=300, bbox_inches='tight')\n",
        "plt.show()"
      ],
      "metadata": {
        "colab": {
          "base_uri": "https://localhost:8080/",
          "height": 374
        },
        "id": "B7jQ__A9Ho5-",
        "outputId": "2bbe7a1c-026e-4efa-f62b-ca6a35fdf2c5"
      },
      "execution_count": null,
      "outputs": [
        {
          "output_type": "display_data",
          "data": {
            "text/plain": [
              "<Figure size 500x380 with 1 Axes>"
            ],
            "image/png": "[encoded data removed]"
          },
          "metadata": {}
        }
      ]
    }
  ]
}
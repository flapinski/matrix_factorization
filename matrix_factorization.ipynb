{
  "cells": [
    {
      "cell_type": "markdown",
      "source": [
        "## Matrix factorization script"
      ],
      "metadata": {
        "id": "dfkdJBz3wwUl"
      }
    },
    {
      "cell_type": "code",
      "execution_count": null,
      "metadata": {
        "id": "BUuQlP777-Nw"
      },
      "outputs": [],
      "source": [
        "from numpy import random as rd\n",
        "from random import sample\n",
        "import numpy as np\n",
        "import pandas as pd\n",
        "from scipy.sparse import csr_matrix\n",
        "import time\n",
        "import matplotlib.pyplot as plt\n",
        "from math import floor, log2\n",
        "from copy import deepcopy as dc\n",
        "import random\n",
        "import scipy\n",
        "from sklearn.model_selection import train_test_split\n",
        "from sklearn.metrics import mean_squared_error\n",
        "import itertools\n",
        "\n",
        "plt.rcParams['mathtext.fontset'] = 'cm'\n",
        "plt.rcParams['font.family'] = 'STIXGeneral'"
      ]
    },
    {
      "cell_type": "markdown",
      "metadata": {
        "id": "xSVVzEnkICcf"
      },
      "source": [
        "### 1.1 Matrix help functions"
      ]
    },
    {
      "cell_type": "code",
      "execution_count": null,
      "metadata": {
        "id": "5NvHxX-_cPlD"
      },
      "outputs": [],
      "source": [
        "def open_df(name):\n",
        "  df = pd.read_csv(name)\n",
        "  df = df.drop(columns = 'Unnamed: 0')\n",
        "  return df"
      ]
    },
    {
      "cell_type": "code",
      "source": [
        "def df_to_matrix(df, m, n):\n",
        "  R = csr_matrix((df.rating, (df.user, df.item)), shape=(m, n)).toarray()\n",
        "  shuffle_matrix(R)\n",
        "  R = R.astype(np.float64)\n",
        "  return(R)"
      ],
      "metadata": {
        "id": "ia4oTNfs80JK"
      },
      "execution_count": null,
      "outputs": []
    },
    {
      "cell_type": "code",
      "source": [
        "def shuffle_matrix(R):\n",
        "  rd.shuffle(R)\n",
        "  rd.shuffle(np.transpose(R))"
      ],
      "metadata": {
        "id": "gZpE1vHGw2mh"
      },
      "execution_count": null,
      "outputs": []
    },
    {
      "cell_type": "code",
      "source": [
        "def get_nonzero_count(R):\n",
        "  return np.count_nonzero(R)"
      ],
      "metadata": {
        "id": "lmS3qZCO8-eF"
      },
      "execution_count": null,
      "outputs": []
    },
    {
      "cell_type": "code",
      "source": [
        "def get_total_count(R):\n",
        "  return R.shape[0]*R.shape[1]"
      ],
      "metadata": {
        "id": "cqesJkTV90TJ"
      },
      "execution_count": null,
      "outputs": []
    },
    {
      "cell_type": "code",
      "execution_count": null,
      "metadata": {
        "id": "m4gm_102ElEu"
      },
      "outputs": [],
      "source": [
        "def get_sparsity(R):\n",
        "  return get_nonzero_count(R)/get_total_count(R)"
      ]
    },
    {
      "cell_type": "code",
      "source": [
        "def get_number_to_delete(R, sparsity):\n",
        "  # For a matrix R, calculate how many items to delete to get new sparsity\n",
        "  total_elements = get_total_count(R)\n",
        "  current_nonzero_elements = get_nonzero_count(R)\n",
        "  new_nonzero_elements = round(total_elements * sparsity)\n",
        "  return current_nonzero_elements - new_nonzero_elements"
      ],
      "metadata": {
        "id": "x-JPPpJW8bbw"
      },
      "execution_count": null,
      "outputs": []
    },
    {
      "cell_type": "code",
      "source": [
        "def get_index_list(R):\n",
        "  [u_ind, m_ind] = np.nonzero(R)\n",
        "  return list(zip(u_ind, m_ind))"
      ],
      "metadata": {
        "id": "Mo0lDLEp_qZT"
      },
      "execution_count": null,
      "outputs": []
    },
    {
      "cell_type": "code",
      "source": [
        "def make_sparser(R, sparsity):\n",
        "  assert sparsity <= get_sparsity(R), \"Sparsity is higher than the current matrix sparsity\"\n",
        "  delete_number = get_number_to_delete(R, sparsity)\n",
        "  index_list = get_index_list(R)\n",
        "  indices = sample(index_list, delete_number)\n",
        "  for (u,m) in indices:\n",
        "    R[u,m] = 0"
      ],
      "metadata": {
        "id": "QxFxBFkmyZjr"
      },
      "execution_count": null,
      "outputs": []
    },
    {
      "cell_type": "code",
      "execution_count": null,
      "metadata": {
        "id": "p4AXUN12lnsN"
      },
      "outputs": [],
      "source": [
        "def split_in_two(R, p):\n",
        "  # p = proportion of input matrix that goes into second output matrix\n",
        "\n",
        "  r1 = dc(R)\n",
        "  r2 = np.zeros(R.shape)\n",
        "\n",
        "  for user in range(R.shape[0]):\n",
        "    ulist = R[user, :].nonzero()[0]\n",
        "    l = len(ulist)\n",
        "    if l >= 10:\n",
        "      random.shuffle(ulist)\n",
        "      r2_ratings = ulist[:round(p*l)]\n",
        "    else:\n",
        "      r2_ratings = []\n",
        "      for u in ulist:\n",
        "        num = random.uniform(0,1)\n",
        "        if num < p:\n",
        "          r2_ratings.append(u)\n",
        "\n",
        "    r1[user, r2_ratings] = 0\n",
        "    r2[user, r2_ratings] = R[user, r2_ratings]\n",
        "\n",
        "  # Assert that matrices are disjoint\n",
        "  assert(np.all((r1 * r2) == 0))\n",
        "  return r1, r2"
      ]
    },
    {
      "cell_type": "code",
      "execution_count": null,
      "metadata": {
        "id": "S1HR8o9U1-uw"
      },
      "outputs": [],
      "source": [
        "def calc_mean(R):\n",
        "  mask = np.nonzero(R)\n",
        "  return np.mean(R[mask])"
      ]
    },
    {
      "cell_type": "code",
      "execution_count": null,
      "metadata": {
        "id": "2rYMs1tmfKCB"
      },
      "outputs": [],
      "source": [
        "def add_const(R, mu):\n",
        "  mask = np.nonzero(R)\n",
        "  R[mask] = R[mask] + mu"
      ]
    },
    {
      "cell_type": "code",
      "source": [
        "def split_into_train_test(R, spars_train):\n",
        "  ratings_train = get_total_count(R)*spars_train\n",
        "  ratings_test = get_nonzero_count(R) - ratings_train\n",
        "  prop_to_test = ratings_test/get_nonzero_count(R)\n",
        "\n",
        "  train, test = split_in_two(R, prop_to_test)\n",
        "  return train, test"
      ],
      "metadata": {
        "id": "JnW-XZPSZN5q"
      },
      "execution_count": null,
      "outputs": []
    },
    {
      "cell_type": "code",
      "source": [
        "def filter_out_test_ratings(Rhat, Test):\n",
        "  Res = np.zeros(Rhat.shape)\n",
        "  mask = np.nonzero(Test)\n",
        "  Res[mask] = Rhat[mask]\n",
        "  return Res"
      ],
      "metadata": {
        "id": "7p7UesjK2BM7"
      },
      "execution_count": null,
      "outputs": []
    },
    {
      "cell_type": "markdown",
      "source": [
        "### 1.2 Optimization help functions"
      ],
      "metadata": {
        "id": "AIYjXTYIp36O"
      }
    },
    {
      "cell_type": "code",
      "execution_count": null,
      "metadata": {
        "id": "j3dJShbUNhgY"
      },
      "outputs": [],
      "source": [
        "def initialize_latent_factors(m,n,l):\n",
        "  U = rd.uniform(-1, 1, [m, l])\n",
        "  V = rd.uniform(-1, 1, [n, l])\n",
        "  #U = rd.rand(m,l)-0.5; V = rd.rand(n,l)-0.5\n",
        "  return U, V"
      ]
    },
    {
      "cell_type": "code",
      "execution_count": null,
      "metadata": {
        "id": "cM4DzL_QN3yi"
      },
      "outputs": [],
      "source": [
        "def initialize_biases(m,n):\n",
        "  c = rd.uniform(-1, 1, m)\n",
        "  d = rd.uniform(-1, 1, n)\n",
        "  #c = [0]*m; d = [0]*n\n",
        "  return c, d"
      ]
    },
    {
      "cell_type": "code",
      "execution_count": null,
      "metadata": {
        "id": "m3pj1N659NOS"
      },
      "outputs": [],
      "source": [
        "def als_step(R, solve_mat, fixed_mat, l, lam):\n",
        "  A = fixed_mat.T.dot(fixed_mat) + np.eye(l) * lam\n",
        "  b = R.dot(fixed_mat)\n",
        "  A_inv = np.linalg.inv(A)\n",
        "  solve_mat = b.dot(A_inv)\n",
        "  return solve_mat"
      ]
    },
    {
      "cell_type": "code",
      "execution_count": null,
      "metadata": {
        "id": "XfqJZXbkwgjd"
      },
      "outputs": [],
      "source": [
        "def als_step_biased(R, solve_mat, fixed_mat, solve_bias, fixed_bias, l, lam):\n",
        "  Rbias = subtract_bias(R,fixed_bias)\n",
        "  solve_mat_biased = biased_mat(solve_mat, solve_bias)\n",
        "  fixed_mat_biased = biased_mat(fixed_mat, fixed_bias)\n",
        "  solve_mat_biased = als_step(Rbias, solve_mat_biased, fixed_mat_biased, l+1, lam)\n",
        "  solve_mat = solve_mat_biased[:,1:]\n",
        "  solve_bias = solve_mat_biased[:,0]\n",
        "  return solve_mat, solve_bias"
      ]
    },
    {
      "cell_type": "code",
      "execution_count": null,
      "metadata": {
        "id": "HllkXXtU1Gxm"
      },
      "outputs": [],
      "source": [
        "def subtract_bias(R,bias):\n",
        "  Rbias = dc(R)\n",
        "  for col in range(R.shape[1]):\n",
        "    Rbias[:,col] -= bias[col]\n",
        "  return Rbias"
      ]
    },
    {
      "cell_type": "code",
      "execution_count": null,
      "metadata": {
        "id": "Iuz7mceEcein"
      },
      "outputs": [],
      "source": [
        "def biased_mat(M,bias):\n",
        "  (k,l) = np.shape(M)\n",
        "  Mbias = np.zeros((k,l+1))\n",
        "  Mbias[:,0] = bias\n",
        "  Mbias[:,1:] = M\n",
        "  return Mbias"
      ]
    },
    {
      "cell_type": "code",
      "execution_count": null,
      "metadata": {
        "id": "AvA5wOfLu47T"
      },
      "outputs": [],
      "source": [
        "def compute_rmse(y_true, y_pred):\n",
        "  mask = np.nonzero(y_true)\n",
        "  rmse = np.sqrt(np.square(y_true[mask] - y_pred[mask]).mean())\n",
        "  return rmse"
      ]
    },
    {
      "cell_type": "code",
      "source": [
        "def compute_mae(y_true, y_pred):\n",
        "  mask = np.nonzero(y_true)\n",
        "  mae = np.absolute(y_true[mask] - y_pred[mask]).mean()\n",
        "  return mae"
      ],
      "metadata": {
        "id": "FsidGo5Br6f7"
      },
      "execution_count": null,
      "outputs": []
    },
    {
      "cell_type": "code",
      "execution_count": null,
      "metadata": {
        "id": "ptm2CCSxgIY5"
      },
      "outputs": [],
      "source": [
        "def compute_diff(y_true, y_pred):\n",
        "  mask = np.nonzero(y_true)\n",
        "  diff = np.zeros(y_true.shape)\n",
        "  diff[mask] = y_true[mask] - y_pred[mask]\n",
        "  return diff"
      ]
    },
    {
      "cell_type": "code",
      "execution_count": null,
      "metadata": {
        "id": "krAowxyYXKDc"
      },
      "outputs": [],
      "source": [
        "def tune_hyperparams(Tr, Val, tol, latent_factors, lambdas, bias, once):\n",
        "  ### Find best hyperparameters lambda and l\n",
        "  best_params = {}\n",
        "  best_params['n_factors'] = latent_factors[0]\n",
        "  best_params['reg'] = lambdas[0]\n",
        "  best_params['train_rmse'] = np.inf\n",
        "  best_params['val_rmse'] = np.inf\n",
        "\n",
        "  for lam in lambdas:\n",
        "    for l in latent_factors:\n",
        "        res = optimize(Tr, Val, tol, l, lam, bias, once)\n",
        "        if res[1] < best_params['val_rmse']:\n",
        "            best_params['n_factors'] = l\n",
        "            best_params['reg'] = lam\n",
        "            best_params['train_rmse'] = res[0]\n",
        "            best_params['val_rmse'] = res[1]\n",
        "  #print('Optimal hyperparameters:')\n",
        "  #print(pd.Series(best_params))\n",
        "  return(best_params['n_factors'], best_params['reg'])"
      ]
    },
    {
      "cell_type": "code",
      "execution_count": null,
      "metadata": {
        "id": "xhDUB35u9NW4"
      },
      "outputs": [],
      "source": [
        "def optimize(train, test, tol, l, lam, bias = False, once = False):\n",
        "  ### Optimization algorithm\n",
        "\n",
        "  # Preprocessing: subtract the mean of train, from train, test and val\n",
        "  mu = calc_mean(train)\n",
        "  add_const(train, -mu); add_const(test, -mu);\n",
        "\n",
        "  # Initialize U, V, and bias vectors\n",
        "  (m,n) = np.shape(train)\n",
        "  U,V = initialize_latent_factors(m,n,l)\n",
        "  if bias:\n",
        "    c, d = initialize_biases(m,n)\n",
        "\n",
        "  # Results\n",
        "  RMSE_tr = [1000]  # first element is only for comparison with next RMSE, is deleted after optimization run\n",
        "  RMSE_te = []\n",
        "  MAE_tr = []\n",
        "  MAE_te = []\n",
        "  Rhat = U.dot(V.T)\n",
        "  Rhat_list = [Rhat]\n",
        "  Ulist = []\n",
        "  Vlist = []\n",
        "  improvement = 0\n",
        "\n",
        "  # ALS optimization\n",
        "  while improvement < tol:\n",
        "\n",
        "    RMSE_tr.append(compute_rmse(train, Rhat))\n",
        "    RMSE_te.append(compute_rmse(test, Rhat))\n",
        "    MAE_tr.append(compute_mae(train,Rhat))\n",
        "    MAE_te.append(compute_mae(test,Rhat))\n",
        "\n",
        "    if bias:\n",
        "      U, c = als_step_biased(train, U, V, c, d, l, lam)\n",
        "      V, d = als_step_biased(train.T, V, U, d, c, l, lam)\n",
        "    else:\n",
        "      U = als_step(train, U, V, l, lam)\n",
        "      V = als_step(train.T, V, U, l, lam)\n",
        "    Ulist.append(U); Vlist.append(V)\n",
        "    Rhat = U.dot(V.T)\n",
        "    Rhat_list.append(Rhat)\n",
        "    improvement = RMSE_tr[-1]/RMSE_tr[-2]\n",
        "\n",
        "  del RMSE_tr[0]\n",
        "\n",
        "  # Postprocessing: add the global mean back to train, val and test\n",
        "  add_const(train, mu); add_const(test, mu)\n",
        "\n",
        "  if once:\n",
        "    return RMSE_tr, RMSE_te\n",
        "  else:\n",
        "    return (RMSE_tr[-1], RMSE_te[-1], MAE_tr[-1], MAE_te[-1], Rhat)"
      ]
    },
    {
      "cell_type": "markdown",
      "metadata": {
        "id": "AoFCpRE6YXyA"
      },
      "source": [
        "### 1.3 Post-optimization functions"
      ]
    },
    {
      "cell_type": "code",
      "source": [
        "def compute_ground_truth_ranking(Test, topk):\n",
        "  ground_truth = np.zeros((Test.shape[0], len(topk)), dtype=object)\n",
        "  for user in range(Test.shape[0]):\n",
        "    for i_k, k in enumerate(topk):\n",
        "      ground_truth[user, i_k] = np.argsort(-Test[user,:]).tolist()[:k]\n",
        "      ground_truth[user, i_k] = np.argsort(-Test[user,:]).tolist()[:k]\n",
        "  return ground_truth"
      ],
      "metadata": {
        "id": "D4WeADzVYepD"
      },
      "execution_count": null,
      "outputs": []
    },
    {
      "cell_type": "code",
      "source": [
        "def compute_full_ranking_for_user(M, user): # returns a set of top-k recommended items for one user\n",
        "  return np.argsort(-M[user,:]).tolist()"
      ],
      "metadata": {
        "id": "tjTbmUMYzoeb"
      },
      "execution_count": null,
      "outputs": []
    },
    {
      "cell_type": "code",
      "source": [
        "def compute_ground_truth_set_diffs(ground_truth_rankings, topk_rankings):\n",
        "  dim = topk_rankings.shape\n",
        "  diff_first, diff_prev, diff_ground_truth = np.zeros(dim), np.zeros(dim), np.zeros(dim)\n",
        "  for it in range(dim[0]):\n",
        "    for s in range(dim[1]):\n",
        "      for u in range(dim[2]):\n",
        "        for k in range(dim[3]):\n",
        "          diff_ground_truth[it, s, u, k] = compute_set_diff_for_user(topk_rankings[it, s, u, k], ground_truth_rankings[it, u, k])\n",
        "          diff_first[it, s, u, k] = compute_set_diff_for_user(topk_rankings[it, s, u, k], topk_rankings[it, 0, u, k])\n",
        "          if s-1 >= 0:\n",
        "            diff_prev[it, s, u, k] = compute_set_diff_for_user(topk_rankings[it, s, u, k], topk_rankings[it, s-1, u, k])\n",
        "  diff_ground_truth = average_over_axis(diff_ground_truth, 2)\n",
        "  #diff_first = average_over_axis(diff_first, (0,2))\n",
        "  #diff_prev = average_over_axis(diff_prev, (0,2))\n",
        "  return diff_ground_truth#, diff_first, diff_prev"
      ],
      "metadata": {
        "id": "ofFvOhit-rXv"
      },
      "execution_count": null,
      "outputs": []
    },
    {
      "cell_type": "code",
      "source": [
        "def compute_relative_set_diffs(rankings, sparsity_levels, iterations, m, topk):\n",
        "  # topk_rankings = np.zeros((iterations, len(sparsity_levels), m, len(topk)), dtype=object)\n",
        "  combinations = sum(range(iterations))\n",
        "  diffs = np.zeros((combinations, len(sparsity_levels), m, len(topk)), dtype=object)\n",
        "  for i_s, s in enumerate(sparsity_levels):\n",
        "    for i_k, k in enumerate(topk):\n",
        "      for i_m in range(m):\n",
        "        rankings_list = list(rankings[:, i_s, i_m, i_k])\n",
        "        pairwise_list = list(itertools.combinations(rankings_list,2))\n",
        "        for i_r, (r1,r2) in enumerate(pairwise_list):\n",
        "          diffs[i_r, i_s, i_m, i_k] = compute_set_diff_for_user(r1, r2)\n",
        "  diffs = average_over_axis(diffs, 2)\n",
        "  return diffs"
      ],
      "metadata": {
        "id": "ZMIbjg-iniuT"
      },
      "execution_count": null,
      "outputs": []
    },
    {
      "cell_type": "code",
      "source": [
        "def compute_set_diff_for_user(r1, r2):\n",
        "  k = len(r1)\n",
        "  set1, set2 = set(r1), set(r2)\n",
        "  return len(set1.difference(set2))/k"
      ],
      "metadata": {
        "id": "bK6lxSWGU9KZ"
      },
      "execution_count": null,
      "outputs": []
    },
    {
      "cell_type": "code",
      "source": [
        "def average_over_axis(array, axes):\n",
        "  return np.average(array, axis=axes)"
      ],
      "metadata": {
        "id": "zQI-JWktOCuI"
      },
      "execution_count": null,
      "outputs": []
    },
    {
      "cell_type": "code",
      "source": [
        "def compute_R_score_for_user(Test, ranking, alpha, user, k):\n",
        "  R_score = 0\n",
        "  for item in ranking:\n",
        "    R_score += compute_R_score_for_item(Test, ranking, alpha, user, item, k)\n",
        "  return R_score"
      ],
      "metadata": {
        "id": "Xy28wEn4wynl"
      },
      "execution_count": null,
      "outputs": []
    },
    {
      "cell_type": "code",
      "source": [
        "def compute_R_score_for_item(Test, ranking, alpha, user, item, k):\n",
        "  C = np.mean(Test[user, :])\n",
        "  r = Test[user, item]\n",
        "  v = ranking.index(item) + 1    # +1 since ranking starts at 1 while indexing starts at 0\n",
        "  if r - C > 0:\n",
        "    return (r - C)/(2**((v-1)/alpha))\n",
        "  else:\n",
        "    return 0"
      ],
      "metadata": {
        "id": "MjAh_Rz-DdjH"
      },
      "execution_count": null,
      "outputs": []
    },
    {
      "cell_type": "code",
      "source": [
        "def compute_NDCG_for_user(Test, ranking, user, k):\n",
        "  DCG = compute_DCG_for_user(Test, ranking, user, k)\n",
        "  gnd_truth_ranking = compute_full_ranking_for_user(Test, user)[:k]\n",
        "  IDCG = compute_DCG_for_user(Test, gnd_truth_ranking, user, k)\n",
        "  return DCG/IDCG"
      ],
      "metadata": {
        "id": "AIOCW_YJkAHq"
      },
      "execution_count": null,
      "outputs": []
    },
    {
      "cell_type": "code",
      "source": [
        "def compute_DCG_for_user(Test, ranking, user, k):\n",
        "  DCG = []\n",
        "  for item in ranking:\n",
        "    DCG.append(compute_DCG_for_item(Test, ranking, user, item, k))\n",
        "  return np.mean(DCG)"
      ],
      "metadata": {
        "id": "WQ-604HKmHvm"
      },
      "execution_count": null,
      "outputs": []
    },
    {
      "cell_type": "code",
      "source": [
        "def compute_DCG_for_item(Test, ranking, user, item, k):\n",
        "  r = Test[user, item]\n",
        "  g = 2**(r-1)\n",
        "  v = ranking.index(item) + 1\n",
        "  return g/log2(v+1)"
      ],
      "metadata": {
        "id": "e2iymcbOmvw3"
      },
      "execution_count": null,
      "outputs": []
    },
    {
      "cell_type": "markdown",
      "metadata": {
        "id": "g2ZE8904_nHU"
      },
      "source": [
        "### 2.1 Main scripts"
      ]
    },
    {
      "cell_type": "code",
      "source": [
        "def main_one_als_optimization():\n",
        "  ### Produces a plot of RMSE for train and test set during one optimization run\n",
        "  df_dense = open_df('df_size_2000_2000_l_20.csv')\n",
        "  m = df_dense.user.nunique()\n",
        "  n = df_dense.item.nunique()\n",
        "  R = df_to_matrix(df_dense, m, n)\n",
        "\n",
        "  ########    Set all parameters needed    ######################################\n",
        "\n",
        "  bias = False      # biased or unbiased ALS method\n",
        "  once = True       # run the optimization only once, in order to plot the decrease in RMSE during one training\n",
        "  initialisation_test = False\n",
        "  method = 'Biased ALS' if bias else 'Unbiased ALS'\n",
        "  tol = 0.999;      # tolerance: run optimization until train RMSE doesn't improve more than 1 - tol.\n",
        "  save_figs = True\n",
        "  np.random.seed(0)\n",
        "\n",
        "  ########    End of parameters    ##############################################\n",
        "\n",
        "  Train, Test = split_into_train_test(R, 0.1)\n",
        "  l, lam = 20, 0.01\n",
        "  rmse_tr, rmse_te = optimize(Train, Test, tol, l, lam, bias, once)\n",
        "\n",
        "  # Plot:\n",
        "  plt.plot(np.arange(1,len(rmse_tr)+1), rmse_tr, 'bo-.', label='RMSE_train', markerfacecolor='none', markersize=4)\n",
        "  plt.plot(np.arange(1,len(rmse_tr)+1), rmse_te, 'g+-.', label='RMSE_test')\n",
        "  plt.title(method + ', synthetic data with $\\ell=20$ and $\\lambda = 0.01$', fontsize=14)\n",
        "  plt.xlabel('Number of ALS optimization steps', fontsize=12)\n",
        "  plt.xticks(np.arange(1,len(rmse_tr)+1))\n",
        "  plt.ylabel('RMSE', fontsize=12)\n",
        "  fig = plt.gcf()\n",
        "  fig.set_size_inches(6, 4.5)\n",
        "  plt.legend(loc='upper right')\n",
        "  name = 'ALS_one_optimization_synthetic.eps'\n",
        "  plt.savefig(name, format='eps', dpi=300, bbox_inches='tight')\n",
        "  plt.show()\n",
        "\n",
        "main_one_als_optimization()"
      ],
      "metadata": {
        "colab": {
          "base_uri": "https://localhost:8080/",
          "height": 469
        },
        "id": "q7dXkQ8W3V_S",
        "outputId": "361bcb4b-99ca-4d57-c48b-618848302ea6"
      },
      "execution_count": null,
      "outputs": [
        {
          "output_type": "stream",
          "name": "stderr",
          "text": [
            "WARNING:matplotlib.backends.backend_ps:The PostScript backend does not support transparency; partially transparent artists will be rendered opaque.\n"
          ]
        },
        {
          "output_type": "display_data",
          "data": {
            "text/plain": [
              "<Figure size 600x450 with 1 Axes>"
            ],
            "image/png": "[encoded data removed]"
          },
          "metadata": {}
        }
      ]
    },
    {
      "cell_type": "code",
      "source": [
        "def main_tune_hyperparameters():\n",
        "  ### Tunes regularization parameter for different sparsity levels\n",
        "\n",
        "  df_dense = open_df('df_size_2000_2000.csv')\n",
        "  m = df_dense.user.nunique()\n",
        "  n = df_dense.item.nunique()\n",
        "  R = df_to_matrix(df_dense, m, n)\n",
        "\n",
        "  ########    Set all parameters needed    ######################################\n",
        "\n",
        "  tune_lambda = True\n",
        "  tune_ell = False\n",
        "\n",
        "  bias = True      # biased or unbiased ALS method\n",
        "  tol = 0.99;      # tolerance: run optimization until train RMSE doesn't improve more than 1 - tol.\n",
        "  save_figs = False\n",
        "\n",
        "  #For the synthetic data set:\n",
        "  #latent_factors = [20]\n",
        "  #lambdas = [0, 1e-06, 2e-06, 3e-06, 5e-06, 7.5e-06]\n",
        "  #sparsity_levels = [0.9, 0.6, 0.4, 0.2, 0.1, 0.05, 0.01]\n",
        "\n",
        "  #For the Netflix data:\n",
        "  sparsity_levels = [0.5, 0.4, 0.3, 0.2, 0.1, 0.05, 0.01]\n",
        "  latent_factors = [35, 40, 45, 50]\n",
        "  lambdas = [0.005, 0.0075, 0.01, 0.015]\n",
        "  n_tunings = 10\n",
        "\n",
        "  ########    End of parameters    ##############################################\n",
        "\n",
        "  if tune_lambda:\n",
        "    latent_factors = [40]\n",
        "    lambda_results = np.zeros((len(sparsity_levels), n_tunings), dtype=object)\n",
        "    for i_n in range(n_tunings):\n",
        "      Train, Val = split_into_train_test(R, sparsity_levels[0])\n",
        "      for i_s, sparsity in enumerate(sparsity_levels):\n",
        "        make_sparser(Train, sparsity)\n",
        "        l, lam = tune_hyperparams(Train, Val, tol, latent_factors, lambdas, bias, once=False)\n",
        "        lambda_results[i_s, i_n] = lam\n",
        "    for el in lambda_results:\n",
        "      print(el)\n",
        "    return lambda_results\n",
        "\n",
        "  if tune_ell:\n",
        "    lambdas = [0]\n",
        "    latent_factors_results = []\n",
        "    for _ in range(n_tunings):\n",
        "      Train, Val = Train, Test = split_into_train_test(R, sparsity_levels[0])\n",
        "      l, lam = tune_hyperparams(Train, Val, tol, latent_factors, lambdas, bias, once=False)\n",
        "      latent_factors_results.append(l)\n",
        "      print(l, lam)\n",
        "      return latent_factors\n",
        "\n",
        "res = main_tune_hyperparameters()"
      ],
      "metadata": {
        "colab": {
          "base_uri": "https://localhost:8080/"
        },
        "id": "HIljmjsoWcwp",
        "outputId": "52a2fdde-6725-49c8-cd90-bb2b1721c9d1"
      },
      "execution_count": null,
      "outputs": [
        {
          "output_type": "stream",
          "name": "stdout",
          "text": [
            "[0.0075 0.01 0.0075 0.015 0.0075 0.01 0.015 0.015 0.01 0.005]\n",
            "[0.015 0.005 0.005 0.015 0.0075 0.01 0.01 0.005 0.005 0.015]\n",
            "[0.01 0.005 0.015 0.0075 0.005 0.005 0.015 0.01 0.01 0.005]\n",
            "[0.01 0.01 0.005 0.0075 0.01 0.005 0.01 0.01 0.01 0.005]\n",
            "[0.0075 0.0075 0.005 0.015 0.005 0.015 0.015 0.005 0.015 0.005]\n",
            "[0.01 0.015 0.015 0.015 0.015 0.0075 0.01 0.015 0.01 0.005]\n",
            "[0.005 0.005 0.005 0.01 0.01 0.0075 0.005 0.005 0.01 0.005]\n"
          ]
        }
      ]
    },
    {
      "cell_type": "code",
      "execution_count": null,
      "metadata": {
        "id": "8wG_1fNd9V8j",
        "colab": {
          "base_uri": "https://localhost:8080/"
        },
        "outputId": "8b96c044-6218-4e41-fc88-61fd5b528485"
      },
      "outputs": [
        {
          "output_type": "stream",
          "name": "stdout",
          "text": [
            "Execution time for this run: 8.33 minutes \n",
            "\n"
          ]
        }
      ],
      "source": [
        "### Main numerical tests:\n",
        "\n",
        "start_time = time.time()\n",
        "df_dense = open_df('df_size_2000_2000.csv')\n",
        "m = df_dense.user.nunique()\n",
        "n = df_dense.item.nunique()\n",
        "R = df_to_matrix(df_dense, m, n)\n",
        "\n",
        "########    Set all parameters needed    ######################################\n",
        "\n",
        "np.random.seed(0)\n",
        "\n",
        "iterations = 10\n",
        "bias = True                  # biased or unbiased ALS method\n",
        "tol = 0.999;                   # tolerance: run optimization until train RMSE doesn't improve more than 1 - tol.\n",
        "topk = [5, 10, 20]               # top-k recommended items\n",
        "alpha = 4\n",
        "\n",
        "# For the synthetic data set:\n",
        "sparsity_levels = [0.9, 0.6, 0.4, 0.2, 0.1, 0.05, 0.01]\n",
        "l, lam = 20, 0\n",
        "\n",
        "# For the Netflix data set:\n",
        "sparsity_levels = [0.55, 0.4, 0.3, 0.2, 0.1, 0.05, 0.01]\n",
        "l, lam = 45, 0.01\n",
        "\n",
        "########    End of parameters    ##############################################\n",
        "\n",
        "full_rankings = np.zeros((iterations, len(sparsity_levels), m), dtype=object)\n",
        "topk_rankings = np.zeros((iterations, len(sparsity_levels), m, len(topk)), dtype=object)\n",
        "ground_truth_rankings = np.zeros((iterations, m, len(topk)), dtype=object)\n",
        "R_score = np.zeros((iterations, len(sparsity_levels), m, len(topk)), dtype=object)\n",
        "NDCG = np.zeros((iterations, len(sparsity_levels), m, len(topk)), dtype=object)\n",
        "diff_ground_truth = np.zeros((iterations, len(sparsity_levels), m, len(topk)), dtype=object)\n",
        "rmse_tr_te = np.zeros((iterations, len(sparsity_levels), 2), dtype=object)\n",
        "mae_tr_te = np.zeros((iterations, len(sparsity_levels), 2), dtype=object)\n",
        "\n",
        "###  Start iterations  #######\n",
        "\n",
        "for it in range(iterations):\n",
        "\n",
        "  Train, Test = split_into_train_test(R, sparsity_levels[0])\n",
        "  ground_truth_rankings[it, :, :] = compute_ground_truth_ranking(Test, topk)\n",
        "\n",
        "  for i_s, sparsity in enumerate(sparsity_levels):\n",
        "    make_sparser(Train, sparsity)\n",
        "    result = optimize(Train, Test, tol, l, lam, bias, once=False)\n",
        "    rmse_tr_te[it, i_s, :] = result[0:2]\n",
        "    mae_tr_te[it, i_s, :] = result[2:4]\n",
        "    Rhat = result[4]\n",
        "    Rhat_test = filter_out_test_ratings(Rhat, Test)\n",
        "    for user in range(m):\n",
        "      full_rankings[it, i_s, user] = compute_full_ranking_for_user(Rhat_test, user)\n",
        "      for i_k, k in enumerate(topk):\n",
        "        estimated_ranking = full_rankings[it, i_s, user][:k]\n",
        "        topk_rankings[it, i_s, user, i_k] = estimated_ranking\n",
        "        R_score[it, i_s, user, i_k] = compute_R_score_for_user(Test, estimated_ranking, alpha, user, k)\n",
        "        NDCG[it, i_s, user, i_k] = compute_NDCG_for_user(Test, estimated_ranking, user, k)\n",
        "\n",
        "rmse_train = rmse_tr_te[:, :, 0]\n",
        "rmse_test = rmse_tr_te[:, :, 1]\n",
        "mae_train = mae_tr_te[:, :, 0]\n",
        "mae_test = mae_tr_te[:, :, 1]\n",
        "\n",
        "R_score = average_over_axis(R_score, (0,2))\n",
        "NDCG = average_over_axis(NDCG, (0,2))\n",
        "\n",
        "rmse_tr_te = average_over_axis(rmse_tr_te, 0)\n",
        "rmse_train_avg = rmse_tr_te[:, 0]\n",
        "rmse_test_avg = rmse_tr_te[:, 1]\n",
        "\n",
        "mae_tr_te_avg = average_over_axis(mae_tr_te, 0)\n",
        "mae_train_avg = mae_tr_te_avg[:, 0]; mae_test_avg = mae_tr_te_avg[:, 1]\n",
        "\n",
        "diff_ground_truth = compute_ground_truth_set_diffs(ground_truth_rankings, topk_rankings)\n",
        "diff_ground_truth_averaged = average_over_axis(diff_ground_truth, 0)\n",
        "\n",
        "t = (time.time() - start_time)/60\n",
        "print(\"Execution time for this run: %.2f minutes \\n\" % t)"
      ]
    },
    {
      "cell_type": "code",
      "source": [
        "def print_statistics(rmse_train, rmse_test, mae_train, mae_test, diff_ground_truth, sparsity_levels):\n",
        "\n",
        "  rmse_statistics_tr = [[],[]]\n",
        "  mae_statistics_tr = [[],[]]\n",
        "  rmse_statistics_te = [[], []]\n",
        "  mae_statistics_te = [[],[]]\n",
        "  diff_statistics_k_5 = [[], []]\n",
        "  diff_statistics_k_10 = [[], []]\n",
        "  diff_statistics_k_20 = [[], []]\n",
        "\n",
        "  spars = sparsity_levels[::-1]\n",
        "  dec = 4\n",
        "\n",
        "  for i_s, s in enumerate(sparsity_levels):\n",
        "    rmse_statistics_tr[0][:0] = [round(np.mean(rmse_train[:,i_s]), dec)]\n",
        "    rmse_statistics_tr[1][:0] = [round(np.std(rmse_train[:,i_s]), dec)]\n",
        "    mae_statistics_tr[0][:0] = [round(np.mean(mae_train[:,i_s]), dec)]\n",
        "    mae_statistics_tr[1][:0] = [round(np.std(mae_train[:,i_s]), dec)]\n",
        "    rmse_statistics_te[0][:0] = [round(np.mean(rmse_test[:,i_s]), dec)]\n",
        "    rmse_statistics_te[1][:0] = [round(np.std(rmse_test[:,i_s]), dec)]\n",
        "    mae_statistics_te[0][:0] = [round(np.mean(mae_test[:,i_s]), dec)]\n",
        "    mae_statistics_te[1][:0] = [round(np.std(mae_test[:,i_s]), dec)]\n",
        "    diff_statistics_k_5[0][:0] = [round(np.mean(diff_ground_truth[:, i_s, 0]), dec)]\n",
        "    diff_statistics_k_5[1][:0] = [round(np.std(diff_ground_truth[:, i_s, 0]), dec)]\n",
        "    diff_statistics_k_10[0][:0] = [round(np.mean(diff_ground_truth[:, i_s, 1]), dec)]\n",
        "    diff_statistics_k_10[1][:0] = [round(np.std(diff_ground_truth[:, i_s, 1]), dec)]\n",
        "    diff_statistics_k_20[0][:0] = [round(np.mean(diff_ground_truth[:, i_s, 2]), dec)]\n",
        "    diff_statistics_k_20[1][:0]= [round(np.std(diff_ground_truth[:, i_s, 2]), dec)]\n",
        "\n",
        "  print('Sparsity levels: ', ' & '.join(str(x) for x in sparsity_levels[::-1]))\n",
        "  print('RMSE_tr mean: ', ' & '.join(str(x) for x in rmse_statistics_tr[0]))\n",
        "  print('RMSE_tr std: ', ' & '.join(str(x) for x in rmse_statistics_tr[1]))\n",
        "  print('MAE_tr mean: ', ' & '.join(str(x) for x in mae_statistics_tr[0]))\n",
        "  print('MAE_tr std: ', ' & '.join(str(x) for x in mae_statistics_tr[1]))\n",
        "\n",
        "  print('RMSE_te mean: ', ' & '.join(str(x) for x in rmse_statistics_te[0]))\n",
        "  print('RMSE_te std: ', ' & '.join(str(x) for x in rmse_statistics_te[1]))\n",
        "  print('MAE_te mean: ', ' & '.join(str(x) for x in mae_statistics_te[0]))\n",
        "  print('MAE_te std: ', ' & '.join(str(x) for x in mae_statistics_te[1]))\n",
        "\n",
        "  print('k=5 mean: ', ' & '.join(str(x) for x in diff_statistics_k_5[0]))\n",
        "  print('k=5 std: ', ' & '.join(str(x) for x in diff_statistics_k_5[1]))\n",
        "  print('k=10 mean: ', ' & '.join(str(x) for x in diff_statistics_k_10[0]))\n",
        "  print('k=10 std: ', ' & '.join(str(x) for x in diff_statistics_k_10[1]))\n",
        "  print('k=20 mean: ', ' & '.join(str(x) for x in diff_statistics_k_20[0]))\n",
        "  print('k=20 std: ', ' & '.join(str(x) for x in diff_statistics_k_20[1]))\n",
        "\n",
        "print_statistics(rmse_train, rmse_test, mae_train, mae_test, diff_ground_truth, sparsity_levels)"
      ],
      "metadata": {
        "colab": {
          "base_uri": "https://localhost:8080/"
        },
        "id": "-0IGavWS8jhn",
        "outputId": "3d3aff3d-4f93-4cfd-b45d-8aa6ee6c460d"
      },
      "execution_count": null,
      "outputs": [
        {
          "output_type": "stream",
          "name": "stdout",
          "text": [
            "Sparsity levels:  0.01 & 0.05 & 0.1 & 0.2 & 0.3 & 0.4 & 0.55\n",
            "RMSE_tr mean:  0.9942 & 0.9882 & 0.9724 & 0.936 & 0.8996 & 0.8687 & 0.8408\n",
            "RMSE_tr std:  0.004 & 0.0018 & 0.0012 & 0.0008 & 0.0009 & 0.0007 & 0.0012\n",
            "MAE_tr mean:  0.8395 & 0.8327 & 0.816 & 0.777 & 0.7371 & 0.7034 & 0.673\n",
            "MAE_tr std:  0.0031 & 0.0015 & 0.0011 & 0.0007 & 0.0007 & 0.0007 & 0.0011\n",
            "RMSE_te mean:  1.0989 & 1.0901 & 1.0712 & 1.0292 & 0.9857 & 0.9463 & 0.9052\n",
            "RMSE_te std:  0.0013 & 0.0014 & 0.0014 & 0.0019 & 0.0015 & 0.0015 & 0.0014\n",
            "MAE_te mean:  0.9218 & 0.9124 & 0.8931 & 0.8493 & 0.8036 & 0.7632 & 0.7232\n",
            "MAE_te std:  0.0011 & 0.0012 & 0.0013 & 0.0017 & 0.0013 & 0.0013 & 0.0012\n",
            "k=5 mean:  0.9336 & 0.9042 & 0.8716 & 0.8374 & 0.8096 & 0.7915 & 0.7773\n",
            "k=5 std:  0.0021 & 0.0022 & 0.0021 & 0.0017 & 0.0019 & 0.0028 & 0.0044\n",
            "k=10 mean:  0.8765 & 0.8361 & 0.7921 & 0.7404 & 0.7075 & 0.6873 & 0.6712\n",
            "k=10 std:  0.0018 & 0.0025 & 0.0027 & 0.0023 & 0.0028 & 0.0026 & 0.0026\n",
            "k=20 mean:  0.7687 & 0.7182 & 0.6687 & 0.6151 & 0.5866 & 0.5716 & 0.5674\n",
            "k=20 std:  0.0016 & 0.0028 & 0.0026 & 0.0013 & 0.0013 & 0.0017 & 0.0023\n"
          ]
        }
      ]
    },
    {
      "cell_type": "markdown",
      "source": [
        "### 2.2 Plots"
      ],
      "metadata": {
        "id": "nhCLBw5yymHX"
      }
    },
    {
      "cell_type": "code",
      "source": [
        "def titles_and_file_names(synthetic, bias):\n",
        "  if synthetic:\n",
        "    title1 = 'Synthetic data: Error on the training and test set'\n",
        "    title2 = 'Synthetic data: Set difference'\n",
        "    title3 = 'Synthetic data: NDCG'\n",
        "    title4 = 'Synthetic data: R-score'\n",
        "    file1 = 'synthetic_error.eps'\n",
        "    file2 = 'synthetic_set_diff.eps'\n",
        "    file3 = 'synthetic_NDCG.eps'\n",
        "    file4 = 'synthetic_R_score.eps'\n",
        "  else:\n",
        "    if bias:\n",
        "      title1 = 'Netflix data, biased ALS: Error on the training and test set'\n",
        "      title2 = 'Netflix data, biased ALS: Set difference'\n",
        "      title3 = 'Netflix data, biased ALS: NDCG'\n",
        "      title4 = 'Netflix data, biased ALS: R-score'\n",
        "      file1 = 'netflix_bias_error.eps'\n",
        "      file2 = 'netflix_bias_set_diff.eps'\n",
        "      file3 = 'netflix_bias_NDCG.eps'\n",
        "      file4 = 'netflix_bias_R_score.eps'\n",
        "    else:\n",
        "      title1 = 'Netflix data, ALS: RMSE on the training and test set'\n",
        "      title2 = 'Netflix data, ALS: Set difference'\n",
        "      title3 = 'Netflix data, ALS: NDCG'\n",
        "      title4 = 'Netflix data, ALS: R-score'\n",
        "      file1 = 'netflix_error.eps'\n",
        "      file2 = 'netflix_set_diff.eps'\n",
        "      file3 = 'netflix_NDCG.eps'\n",
        "      file4 = 'netflix_R_score.eps'\n",
        "\n",
        "  return title1, title2, title3, title4, file1, file2, file3, file4"
      ],
      "metadata": {
        "id": "l-KQzz6-l_hK"
      },
      "execution_count": null,
      "outputs": []
    },
    {
      "cell_type": "code",
      "execution_count": null,
      "metadata": {
        "colab": {
          "base_uri": "https://localhost:8080/",
          "height": 1000
        },
        "id": "XwT0bDFpOvTm",
        "outputId": "1b847232-5be7-4e67-9956-f28979586a7d"
      },
      "outputs": [
        {
          "output_type": "stream",
          "name": "stderr",
          "text": [
            "WARNING:matplotlib.backends.backend_ps:The PostScript backend does not support transparency; partially transparent artists will be rendered opaque.\n"
          ]
        },
        {
          "output_type": "display_data",
          "data": {
            "text/plain": [
              "<Figure size 600x450 with 1 Axes>"
            ],
            "image/png": "[encoded data removed]"
          },
          "metadata": {}
        },
        {
          "output_type": "stream",
          "name": "stderr",
          "text": [
            "WARNING:matplotlib.backends.backend_ps:The PostScript backend does not support transparency; partially transparent artists will be rendered opaque.\n"
          ]
        },
        {
          "output_type": "display_data",
          "data": {
            "text/plain": [
              "<Figure size 400x300 with 1 Axes>"
            ],
            "image/png": "[encoded data removed]"
          },
          "metadata": {}
        },
        {
          "output_type": "stream",
          "name": "stderr",
          "text": [
            "WARNING:matplotlib.backends.backend_ps:The PostScript backend does not support transparency; partially transparent artists will be rendered opaque.\n"
          ]
        },
        {
          "output_type": "display_data",
          "data": {
            "text/plain": [
              "<Figure size 400x300 with 1 Axes>"
            ],
            "image/png": "[encoded data removed]"
          },
          "metadata": {}
        },
        {
          "output_type": "stream",
          "name": "stderr",
          "text": [
            "WARNING:matplotlib.backends.backend_ps:The PostScript backend does not support transparency; partially transparent artists will be rendered opaque.\n"
          ]
        },
        {
          "output_type": "display_data",
          "data": {
            "text/plain": [
              "<Figure size 400x300 with 1 Axes>"
            ],
            "image/png": "[encoded data removed]"
          },
          "metadata": {}
        }
      ],
      "source": [
        "synthetic_data = False\n",
        "bias = True\n",
        "\n",
        "title1, title2, title3, title4, file1, file2, file3, file4 = titles_and_file_names(synthetic_data, bias)\n",
        "\n",
        "save_figs = True\n",
        "msize = 4\n",
        "\n",
        "fsize1 = 14\n",
        "fsize2 = 12\n",
        "fsize3 = 13\n",
        "\n",
        "plt.plot(sparsity_levels, rmse_train_avg, 'ro-.', markersize=msize, label='RMSE_train')\n",
        "plt.plot(sparsity_levels, rmse_test_avg, 'bo:', markerfacecolor='none', markersize=msize, label='RMSE_test')\n",
        "plt.plot(sparsity_levels, mae_train_avg, 'co-.', markersize=msize, label='MAE_train')\n",
        "plt.plot(sparsity_levels, mae_test_avg, 'mo:', markerfacecolor='none', markersize=msize, label='MAE_test')\n",
        "plt.xlabel(r'$\\rho_{Tr}$', fontsize=fsize3)\n",
        "plt.ylabel('RMSE / MAE', fontsize=fsize2)\n",
        "plt.title(title1, fontsize=fsize1)\n",
        "fig = plt.gcf()\n",
        "fig.set_size_inches(6, 4.5)\n",
        "plt.legend(loc='upper right')\n",
        "if save_figs:\n",
        "  plt.savefig(file1, format='eps', dpi=300, bbox_inches='tight')\n",
        "plt.show()\n",
        "\n",
        "plt.plot(sparsity_levels, diff_ground_truth_averaged[:,0], 'mo-.', markerfacecolor='none', markersize=msize, label = 'k = 5')\n",
        "plt.plot(sparsity_levels, diff_ground_truth_averaged[:,1], 'b+--', label = 'k = 10')\n",
        "plt.plot(sparsity_levels, diff_ground_truth_averaged[:,2], 'r*--', label = 'k = 20')\n",
        "plt.title(title2, fontsize=fsize1)\n",
        "plt.xlabel(r'$\\rho_{Tr}$', fontsize=fsize3)\n",
        "plt.ylabel('Set diff.', fontsize=fsize2)\n",
        "fig = plt.gcf()\n",
        "fig.set_size_inches(4, 3)\n",
        "plt.legend(loc='upper right')\n",
        "if save_figs:\n",
        "  plt.savefig(file2, format='eps', dpi=300, bbox_inches='tight')\n",
        "plt.show()\n",
        "\n",
        "plt.plot(sparsity_levels, NDCG[:,0], 'co-.', markerfacecolor='none', markersize=msize, label = 'k = 5')\n",
        "plt.plot(sparsity_levels, NDCG[:,1], 'b+--', label = 'k = 10')\n",
        "plt.plot(sparsity_levels, NDCG[:,2], 'm*--', label = 'k = 20')\n",
        "plt.title(title3, fontsize=fsize1)\n",
        "plt.xlabel(r'$\\rho_{Tr}$', fontsize=fsize3)\n",
        "plt.ylabel('NDCG', fontsize=fsize2)\n",
        "fig = plt.gcf()\n",
        "fig.set_size_inches(4, 3)\n",
        "plt.legend(loc='center right')\n",
        "if save_figs:\n",
        "  plt.savefig(file3, format='eps', dpi=300, bbox_inches='tight')\n",
        "plt.show()\n",
        "\n",
        "plt.plot(sparsity_levels, R_score[:,0], 'co-.', markerfacecolor='none', markersize=msize, label = 'k = 5')\n",
        "plt.plot(sparsity_levels, R_score[:,1], 'r+--', label = 'k = 10')\n",
        "plt.plot(sparsity_levels, R_score[:,2], 'b*--', label = 'k = 20')\n",
        "plt.title(title4, fontsize=fsize1)\n",
        "plt.xlabel(r'$\\rho_{Tr}$', fontsize=fsize3)\n",
        "plt.ylabel('R-score', fontsize=fsize2)\n",
        "fig = plt.gcf()\n",
        "fig.set_size_inches(4, 3)\n",
        "plt.legend(loc='center right')\n",
        "if save_figs:\n",
        "  plt.savefig(file4, format='eps', dpi=300, bbox_inches='tight')\n",
        "plt.show()\n"
      ]
    }
  ],
  "metadata": {
    "colab": {
      "collapsed_sections": [
        "AoFCpRE6YXyA"
      ],
      "provenance": []
    },
    "kernelspec": {
      "display_name": "Python 3",
      "name": "python3"
    },
    "language_info": {
      "name": "python"
    }
  },
  "nbformat": 4,
  "nbformat_minor": 0
}